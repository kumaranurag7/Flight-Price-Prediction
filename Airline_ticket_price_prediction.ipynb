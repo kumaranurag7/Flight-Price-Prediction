{
 "cells": [
  {
   "cell_type": "code",
   "execution_count": 191,
   "metadata": {},
   "outputs": [],
   "source": [
    "import pandas as pd\n",
    "import numpy as np\n",
    "import matplotlib.pyplot as plt\n",
    "import seaborn as sns\n",
    "\n",
    "import datetime\n",
    "from sklearn.preprocessing import StandardScaler\n",
    "from sklearn.model_selection import train_test_split, KFold, GridSearchCV, RandomizedSearchCV, cross_val_score\n",
    "from sklearn.feature_selection import RFE\n",
    "\n",
    "from sklearn.linear_model import Ridge, LinearRegression, Lasso\n",
    "from sklearn.metrics import mean_squared_error, mean_squared_log_error, r2_score\n",
    "from sklearn.ensemble import RandomForestRegressor\n",
    "from xgboost import XGBRegressor\n",
    "import xgboost as xgb\n",
    "\n",
    "import warnings\n",
    "warnings.filterwarnings('ignore')"
   ]
  },
  {
   "cell_type": "code",
   "execution_count": 192,
   "metadata": {},
   "outputs": [],
   "source": [
    "train = pd.read_csv('train.csv')\n",
    "test = pd.read_csv('test.csv')"
   ]
  },
  {
   "cell_type": "code",
   "execution_count": 193,
   "metadata": {},
   "outputs": [
    {
     "name": "stdout",
     "output_type": "stream",
     "text": [
      "Shape of training data: (8012, 11)\n",
      "Shape of testing data: (2671, 10)\n",
      "Airline            object\n",
      "Date_of_Journey    object\n",
      "Source             object\n",
      "Destination        object\n",
      "Route              object\n",
      "Dep_Time           object\n",
      "Arrival_Time       object\n",
      "Duration           object\n",
      "Total_Stops        object\n",
      "Additional_Info    object\n",
      "Price               int64\n",
      "dtype: object\n"
     ]
    }
   ],
   "source": [
    "print('Shape of training data:',train.shape)\n",
    "print('Shape of testing data:',test.shape)\n",
    "print(train.dtypes)"
   ]
  },
  {
   "cell_type": "code",
   "execution_count": 194,
   "metadata": {},
   "outputs": [
    {
     "data": {
      "text/plain": [
       "Airline            0\n",
       "Date_of_Journey    0\n",
       "Source             0\n",
       "Destination        0\n",
       "Route              1\n",
       "Dep_Time           0\n",
       "Arrival_Time       0\n",
       "Duration           0\n",
       "Total_Stops        1\n",
       "Additional_Info    0\n",
       "Price              0\n",
       "dtype: int64"
      ]
     },
     "execution_count": 194,
     "metadata": {},
     "output_type": "execute_result"
    }
   ],
   "source": [
    "# Check for missing Values\n",
    "train.isnull().sum()"
   ]
  },
  {
   "cell_type": "code",
   "execution_count": 195,
   "metadata": {},
   "outputs": [],
   "source": [
    "# Drop null values\n",
    "train.dropna(inplace = True)\n",
    "train.reset_index(drop = True, inplace = True) # Order Index"
   ]
  },
  {
   "cell_type": "code",
   "execution_count": 196,
   "metadata": {},
   "outputs": [
    {
     "data": {
      "text/html": [
       "<div>\n",
       "<style scoped>\n",
       "    .dataframe tbody tr th:only-of-type {\n",
       "        vertical-align: middle;\n",
       "    }\n",
       "\n",
       "    .dataframe tbody tr th {\n",
       "        vertical-align: top;\n",
       "    }\n",
       "\n",
       "    .dataframe thead th {\n",
       "        text-align: right;\n",
       "    }\n",
       "</style>\n",
       "<table border=\"1\" class=\"dataframe\">\n",
       "  <thead>\n",
       "    <tr style=\"text-align: right;\">\n",
       "      <th></th>\n",
       "      <th>Airline</th>\n",
       "      <th>Date_of_Journey</th>\n",
       "      <th>Source</th>\n",
       "      <th>Destination</th>\n",
       "      <th>Route</th>\n",
       "      <th>Dep_Time</th>\n",
       "      <th>Arrival_Time</th>\n",
       "      <th>Duration</th>\n",
       "      <th>Total_Stops</th>\n",
       "      <th>Additional_Info</th>\n",
       "      <th>Price</th>\n",
       "    </tr>\n",
       "  </thead>\n",
       "  <tbody>\n",
       "    <tr>\n",
       "      <th>0</th>\n",
       "      <td>Airline C</td>\n",
       "      <td>12/06/2019</td>\n",
       "      <td>Delhi</td>\n",
       "      <td>Cochin</td>\n",
       "      <td>DEL → MAA → COK</td>\n",
       "      <td>20:40</td>\n",
       "      <td>09:25 13 Jun</td>\n",
       "      <td>12h 45m</td>\n",
       "      <td>1 stop</td>\n",
       "      <td>No info</td>\n",
       "      <td>7480</td>\n",
       "    </tr>\n",
       "    <tr>\n",
       "      <th>1</th>\n",
       "      <td>Airline A</td>\n",
       "      <td>18/06/2019</td>\n",
       "      <td>Banglore</td>\n",
       "      <td>Delhi</td>\n",
       "      <td>BLR → DEL</td>\n",
       "      <td>18:55</td>\n",
       "      <td>22:00</td>\n",
       "      <td>3h 5m</td>\n",
       "      <td>non-stop</td>\n",
       "      <td>No info</td>\n",
       "      <td>8016</td>\n",
       "    </tr>\n",
       "    <tr>\n",
       "      <th>2</th>\n",
       "      <td>Airline C</td>\n",
       "      <td>18/05/2019</td>\n",
       "      <td>Delhi</td>\n",
       "      <td>Cochin</td>\n",
       "      <td>DEL → BOM → COK</td>\n",
       "      <td>03:50</td>\n",
       "      <td>19:15</td>\n",
       "      <td>15h 25m</td>\n",
       "      <td>1 stop</td>\n",
       "      <td>No info</td>\n",
       "      <td>8879</td>\n",
       "    </tr>\n",
       "    <tr>\n",
       "      <th>3</th>\n",
       "      <td>Airline A</td>\n",
       "      <td>6/05/2019</td>\n",
       "      <td>Kolkata</td>\n",
       "      <td>Banglore</td>\n",
       "      <td>CCU → BOM → BLR</td>\n",
       "      <td>20:00</td>\n",
       "      <td>08:15 07 May</td>\n",
       "      <td>12h 15m</td>\n",
       "      <td>1 stop</td>\n",
       "      <td>In-flight meal not included</td>\n",
       "      <td>9663</td>\n",
       "    </tr>\n",
       "    <tr>\n",
       "      <th>4</th>\n",
       "      <td>Airline A</td>\n",
       "      <td>9/05/2019</td>\n",
       "      <td>Kolkata</td>\n",
       "      <td>Banglore</td>\n",
       "      <td>CCU → BOM → BLR</td>\n",
       "      <td>06:30</td>\n",
       "      <td>12:00</td>\n",
       "      <td>5h 30m</td>\n",
       "      <td>1 stop</td>\n",
       "      <td>In-flight meal not included</td>\n",
       "      <td>9663</td>\n",
       "    </tr>\n",
       "    <tr>\n",
       "      <th>5</th>\n",
       "      <td>Airline E</td>\n",
       "      <td>27/06/2019</td>\n",
       "      <td>Banglore</td>\n",
       "      <td>Delhi</td>\n",
       "      <td>BLR → DEL</td>\n",
       "      <td>05:55</td>\n",
       "      <td>08:35</td>\n",
       "      <td>2h 40m</td>\n",
       "      <td>non-stop</td>\n",
       "      <td>No info</td>\n",
       "      <td>3625</td>\n",
       "    </tr>\n",
       "    <tr>\n",
       "      <th>6</th>\n",
       "      <td>Airline A</td>\n",
       "      <td>3/06/2019</td>\n",
       "      <td>Delhi</td>\n",
       "      <td>Cochin</td>\n",
       "      <td>DEL → NAG → BOM → COK</td>\n",
       "      <td>14:35</td>\n",
       "      <td>12:35 04 Jun</td>\n",
       "      <td>22h</td>\n",
       "      <td>2 stops</td>\n",
       "      <td>In-flight meal not included</td>\n",
       "      <td>10919</td>\n",
       "    </tr>\n",
       "    <tr>\n",
       "      <th>7</th>\n",
       "      <td>Airline C</td>\n",
       "      <td>24/06/2019</td>\n",
       "      <td>Kolkata</td>\n",
       "      <td>Banglore</td>\n",
       "      <td>CCU → BLR</td>\n",
       "      <td>14:15</td>\n",
       "      <td>16:45</td>\n",
       "      <td>2h 30m</td>\n",
       "      <td>non-stop</td>\n",
       "      <td>No info</td>\n",
       "      <td>5510</td>\n",
       "    </tr>\n",
       "    <tr>\n",
       "      <th>8</th>\n",
       "      <td>Airline A</td>\n",
       "      <td>12/06/2019</td>\n",
       "      <td>Delhi</td>\n",
       "      <td>Cochin</td>\n",
       "      <td>DEL → BHO → BOM → COK</td>\n",
       "      <td>05:30</td>\n",
       "      <td>12:35</td>\n",
       "      <td>7h 5m</td>\n",
       "      <td>2 stops</td>\n",
       "      <td>No info</td>\n",
       "      <td>14441</td>\n",
       "    </tr>\n",
       "    <tr>\n",
       "      <th>9</th>\n",
       "      <td>Airline G</td>\n",
       "      <td>9/06/2019</td>\n",
       "      <td>Delhi</td>\n",
       "      <td>Cochin</td>\n",
       "      <td>DEL → BLR → COK</td>\n",
       "      <td>16:45</td>\n",
       "      <td>22:25</td>\n",
       "      <td>5h 40m</td>\n",
       "      <td>1 stop</td>\n",
       "      <td>No info</td>\n",
       "      <td>13470</td>\n",
       "    </tr>\n",
       "  </tbody>\n",
       "</table>\n",
       "</div>"
      ],
      "text/plain": [
       "     Airline Date_of_Journey    Source Destination                  Route  \\\n",
       "0  Airline C      12/06/2019     Delhi      Cochin        DEL → MAA → COK   \n",
       "1  Airline A      18/06/2019  Banglore       Delhi              BLR → DEL   \n",
       "2  Airline C      18/05/2019     Delhi      Cochin        DEL → BOM → COK   \n",
       "3  Airline A       6/05/2019   Kolkata    Banglore        CCU → BOM → BLR   \n",
       "4  Airline A       9/05/2019   Kolkata    Banglore        CCU → BOM → BLR   \n",
       "5  Airline E      27/06/2019  Banglore       Delhi              BLR → DEL   \n",
       "6  Airline A       3/06/2019     Delhi      Cochin  DEL → NAG → BOM → COK   \n",
       "7  Airline C      24/06/2019   Kolkata    Banglore              CCU → BLR   \n",
       "8  Airline A      12/06/2019     Delhi      Cochin  DEL → BHO → BOM → COK   \n",
       "9  Airline G       9/06/2019     Delhi      Cochin        DEL → BLR → COK   \n",
       "\n",
       "  Dep_Time  Arrival_Time Duration Total_Stops              Additional_Info  \\\n",
       "0    20:40  09:25 13 Jun  12h 45m      1 stop                      No info   \n",
       "1    18:55         22:00    3h 5m    non-stop                      No info   \n",
       "2    03:50         19:15  15h 25m      1 stop                      No info   \n",
       "3    20:00  08:15 07 May  12h 15m      1 stop  In-flight meal not included   \n",
       "4    06:30         12:00   5h 30m      1 stop  In-flight meal not included   \n",
       "5    05:55         08:35   2h 40m    non-stop                      No info   \n",
       "6    14:35  12:35 04 Jun      22h     2 stops  In-flight meal not included   \n",
       "7    14:15         16:45   2h 30m    non-stop                      No info   \n",
       "8    05:30         12:35    7h 5m     2 stops                      No info   \n",
       "9    16:45         22:25   5h 40m      1 stop                      No info   \n",
       "\n",
       "   Price  \n",
       "0   7480  \n",
       "1   8016  \n",
       "2   8879  \n",
       "3   9663  \n",
       "4   9663  \n",
       "5   3625  \n",
       "6  10919  \n",
       "7   5510  \n",
       "8  14441  \n",
       "9  13470  "
      ]
     },
     "execution_count": 196,
     "metadata": {},
     "output_type": "execute_result"
    }
   ],
   "source": [
    "train.head(10)"
   ]
  },
  {
   "cell_type": "code",
   "execution_count": 197,
   "metadata": {},
   "outputs": [],
   "source": [
    "# Extract Journey month & day from 'Date_of_journey'\n",
    "def doj(df):\n",
    "    df['journey_month'] = pd.to_datetime(df['Date_of_Journey']).dt.month\n",
    "    df['journey_day'] = pd.to_datetime(df['Date_of_Journey']).dt.day\n",
    "    df.drop('Date_of_Journey',axis = 1, inplace = True)\n",
    "    return df\n",
    "\n",
    "train = doj(train)\n",
    "test = doj(test)"
   ]
  },
  {
   "cell_type": "code",
   "execution_count": 198,
   "metadata": {},
   "outputs": [
    {
     "name": "stdout",
     "output_type": "stream",
     "text": [
      "for flight at index  545  Route is  CCU → DEL → COK → TRV → BLR  Total_stops =  3 stops\n",
      "for flight at index  826  Route is  CCU → GAU → IMF → DEL → BLR  Total_stops =  3 stops\n",
      "for flight at index  1435  Route is  DEL → RPR → NAG → BOM → COK  Total_stops =  3 stops\n",
      "for flight at index  1439  Route is  DEL → RPR → NAG → BOM → COK  Total_stops =  3 stops\n",
      "for flight at index  2376  Route is  CCU → BBI → IXR → DEL → BLR  Total_stops =  3 stops\n",
      "for flight at index  2625  Route is  DEL → RPR → NAG → BOM → COK  Total_stops =  3 stops\n",
      "for flight at index  2732  Route is  DEL → RPR → NAG → BOM → COK  Total_stops =  3 stops\n",
      "for flight at index  2995  Route is  DEL → GWL → IDR → BOM → COK  Total_stops =  3 stops\n",
      "for flight at index  3257  Route is  CCU → GAU → IMF → DEL → BLR  Total_stops =  3 stops\n",
      "for flight at index  3259  Route is  DEL → GWL → IDR → BOM → COK  Total_stops =  3 stops\n",
      "for flight at index  3300  Route is  BLR → CCU → BBI → HYD → DEL  Total_stops =  3 stops\n",
      "for flight at index  3629  Route is  CCU → GAU → IMF → DEL → BLR  Total_stops =  3 stops\n",
      "for flight at index  3721  Route is  DEL → GWL → IDR → BOM → COK  Total_stops =  3 stops\n",
      "for flight at index  3762  Route is  DEL → RPR → NAG → BOM → COK  Total_stops =  3 stops\n",
      "for flight at index  3871  Route is  DEL → RPR → NAG → BOM → COK  Total_stops =  3 stops\n",
      "for flight at index  4004  Route is  DEL → RPR → NAG → BOM → COK  Total_stops =  3 stops\n",
      "for flight at index  4141  Route is  CCU → GAU → IMF → DEL → BLR  Total_stops =  3 stops\n",
      "for flight at index  4149  Route is  BLR → CCU → BBI → HYD → DEL  Total_stops =  3 stops\n",
      "for flight at index  4186  Route is  DEL → RPR → NAG → BOM → COK  Total_stops =  3 stops\n",
      "for flight at index  4601  Route is  BLR → BOM → IDR → GWL → DEL  Total_stops =  3 stops\n",
      "for flight at index  5072  Route is  DEL → GWL → IDR → BOM → COK  Total_stops =  3 stops\n",
      "for flight at index  5158  Route is  DEL → RPR → NAG → BOM → COK  Total_stops =  3 stops\n",
      "for flight at index  5512  Route is  DEL → GWL → IDR → BOM → COK  Total_stops =  3 stops\n",
      "for flight at index  5609  Route is  DEL → RPR → NAG → BOM → COK  Total_stops =  3 stops\n",
      "for flight at index  5718  Route is  BLR → BOM → IDR → GWL → DEL  Total_stops =  3 stops\n",
      "for flight at index  5952  Route is  CCU → BBI → IXR → DEL → BLR  Total_stops =  3 stops\n",
      "for flight at index  6585  Route is  DEL → GWL → IDR → BOM → COK  Total_stops =  3 stops\n",
      "for flight at index  6759  Route is  BLR → HBX → BOM → AMD → DEL  Total_stops =  3 stops\n",
      "for flight at index  6829  Route is  DEL → RPR → NAG → BOM → COK  Total_stops =  3 stops\n",
      "for flight at index  7150  Route is  CCU → DEL → COK → TRV → BLR  Total_stops =  3 stops\n",
      "for flight at index  7549  Route is  BOM → BLR → CCU → BBI → HYD  Total_stops =  3 stops\n",
      "for flight at index  7604  Route is  BLR → HBX → BOM → NAG → DEL  Total_stops =  3 stops\n",
      "for flight at index  7730  Route is  DEL → GWL → IDR → BOM → COK  Total_stops =  3 stops\n",
      "for flight at index  7847  Route is  BLR → HBX → BOM → BHO → DEL  Total_stops =  3 stops\n"
     ]
    }
   ],
   "source": [
    "for i in range(train.shape[0]):\n",
    "    if len(train.Route[i].split('→')) == 5:\n",
    "        print('for flight at index ', i, ' Route is ',train.loc[i,'Route'], ' Total_stops = ', train.loc[i,'Total_Stops'])"
   ]
  },
  {
   "cell_type": "code",
   "execution_count": 199,
   "metadata": {
    "scrolled": true
   },
   "outputs": [],
   "source": [
    "# Correct number of stops\n",
    "def correct_stops(df):\n",
    "    for i in range(df.shape[0]):\n",
    "        if df.Total_Stops[i][0] == 'n':\n",
    "            df.Total_Stops[i] = 0\n",
    "        else:\n",
    "            df.Total_Stops[i] = df.Total_Stops[i][0]\n",
    "        if len(train.Route[i].split('→')) > 4:\n",
    "            df.Total_Stops[i] = 4\n",
    "    return df\n",
    "\n",
    "train = correct_stops(train)\n",
    "test = correct_stops(test)"
   ]
  },
  {
   "cell_type": "code",
   "execution_count": 200,
   "metadata": {},
   "outputs": [],
   "source": [
    "# Extract departure time\n",
    "def dep_time(df):\n",
    "    df['dep_hour'] = pd.to_datetime(df['Dep_Time']).dt.hour\n",
    "    df['dep_min'] = pd.to_datetime(df['Dep_Time']).dt.minute\n",
    "    df.drop('Dep_Time', axis = 1, inplace = True)\n",
    "    return df\n",
    "\n",
    "train = dep_time(train)\n",
    "test = dep_time(test)"
   ]
  },
  {
   "cell_type": "code",
   "execution_count": 201,
   "metadata": {},
   "outputs": [],
   "source": [
    "# Extract arrival time\n",
    "def arr_time(df):\n",
    "    df['arr_hour'] = pd.to_datetime(df['Arrival_Time']).dt.hour\n",
    "    df['arr_min'] = pd.to_datetime(df['Arrival_Time']).dt.minute\n",
    "    return df\n",
    "\n",
    "train = arr_time(train)\n",
    "test = arr_time(test)"
   ]
  },
  {
   "cell_type": "code",
   "execution_count": 202,
   "metadata": {},
   "outputs": [],
   "source": [
    "# convert durration of fligth\n",
    "def duration(df):\n",
    "    df['dur_hour'] = 0\n",
    "    df['dur_min'] = 0\n",
    "    for i in range(df.shape[0]):\n",
    "        if len(df['Duration'][i].split()) == 1:\n",
    "            if 'h' in df['Duration'][i]:\n",
    "                df['dur_hour'][i] = df['Duration'][i][:-1]\n",
    "            else:\n",
    "                df['dur_min'][i] = df['Duration'][i][:-1]\n",
    "        else:\n",
    "            df['dur_hour'][i] = df['Duration'][i].split()[0][:-1]\n",
    "            df['dur_min'][i] = df['Duration'][i].split()[1][:-1]\n",
    "\n",
    "    df.drop('Duration', axis = 1, inplace = True)\n",
    "    return df\n",
    "train = duration(train)\n",
    "test = duration(test)"
   ]
  },
  {
   "cell_type": "code",
   "execution_count": 203,
   "metadata": {},
   "outputs": [],
   "source": [
    "# Extract arrival day/month\n",
    "def arr_day(df):\n",
    "    df['arr_month'] = pd.to_datetime(df['Arrival_Time']).dt.month\n",
    "    df['arr_day'] = pd.to_datetime(df['Arrival_Time']).dt.day\n",
    "    for i in range(df.shape[0]):\n",
    "        if len(df['Arrival_Time'][i].split()) < 3:\n",
    "            df['arr_month'][i] = df['journey_month'][i]\n",
    "            df['arr_day'][i] = df['journey_day'][i]\n",
    "\n",
    "    df.drop('Arrival_Time', axis = 1, inplace = True)\n",
    "    return df\n",
    "train = arr_day(train)\n",
    "test = arr_day(test)"
   ]
  },
  {
   "cell_type": "code",
   "execution_count": 204,
   "metadata": {},
   "outputs": [],
   "source": [
    "# Find & store the intermediate airports in 3 separate column (as max no. of intermediate airports = 3)\n",
    "def intermediate_airports(df):\n",
    "    df.Route = df.Route.apply(lambda x: x.split(' → '))\n",
    "    df['int_1'] = 'na'\n",
    "    df['int_2'] = 'na'\n",
    "    df['int_3'] = 'na'\n",
    "    for i in range(df.shape[0]):\n",
    "        if len(df.Route[i]) == 3:\n",
    "            df['int_1'][i] = df.Route[i][1]\n",
    "        elif len(df.Route[i]) == 4:\n",
    "            df['int_1'][i] = df.Route[i][1]\n",
    "            df['int_2'][i] = df.Route[i][2]\n",
    "        elif len(df.Route[i]) == 5:\n",
    "            df['int_1'][i] = df.Route[i][1]\n",
    "            df['int_2'][i] = df.Route[i][2]\n",
    "            df['int_3'][i] = df.Route[i][3]\n",
    "    df.drop('Route', axis = 1, inplace = True)\n",
    "    return df\n",
    "train = intermediate_airports(train)\n",
    "test = intermediate_airports(test)"
   ]
  },
  {
   "cell_type": "code",
   "execution_count": 206,
   "metadata": {},
   "outputs": [],
   "source": [
    "# One-hot encoding, combining train & test as Source, Destination & Additional_Info have some non common values.\n",
    "to_encode = ['Airline','Source','Destination','Additional_Info']\n",
    "comb = train.append(test, ignore_index=True)\n",
    "for i in to_encode:\n",
    "    if i == 'Additional_Info':\n",
    "        x_t = pd.get_dummies(comb[i])\n",
    "        x_t = x_t.drop(['No info','No Info'], axis = 1)\n",
    "    else:\n",
    "        x_t = pd.get_dummies(comb[i], prefix=i, prefix_sep='_')\n",
    "    comb = comb.join(x_t)\n",
    "    comb.drop(i, axis = 1, inplace = True)\n",
    "    \n",
    "# Find all airports & save in all_airports\n",
    "all_airports = []\n",
    "for i in range(comb.shape[0]):\n",
    "    if comb.int_1[i] not in all_airports:\n",
    "        all_airports.append(comb.int_1[i])\n",
    "    if comb.int_2[i] not in all_airports:\n",
    "        all_airports.append(comb.int_2[i])\n",
    "    if comb.int_3[i] not in all_airports:\n",
    "        all_airports.append(comb.int_3[i])\n",
    "\n",
    "# convert all airports into features in a separate dataframe df2\n",
    "df2 = pd.DataFrame(columns = all_airports)\n",
    "for i in range(comb.shape[0]):\n",
    "    df2 = df2.append(pd.Series(0, index=df2.columns), ignore_index=True) #appending zeros in entire df2\n",
    "\n",
    "# set 1 if intermediate airport is their in a particular flight   \n",
    "for i in range(comb.shape[0]):\n",
    "    if comb.int_1[i] != 'na':\n",
    "        df2[comb.int_1[i]][i] = 1\n",
    "    if comb.int_2[i] != 'na':\n",
    "        df2[comb.int_2[i]][i] = 1\n",
    "    if comb.int_3[i] != 'na':\n",
    "        df2[comb.int_3[i]][i] = 1\n",
    "\n",
    "# Remove 'na' column which was assigned in case of absence of intermediate airport 1,2 or 3.\n",
    "df2.drop('na', axis = 1, inplace = True)\n",
    "\n",
    "# join intermediate airport df to comb(train + test)\n",
    "comb = comb.join(df2)\n",
    "\n",
    "# drop int_1,int_2,int_3\n",
    "comb.drop(['int_1','int_2','int_3'], axis = 1, inplace = True)\n",
    "\n",
    "# separate train & test\n",
    "train = comb.iloc[:train.shape[0],:]\n",
    "test = comb.iloc[train.shape[0]:,:]\n",
    "test.drop('Price',axis = 1, inplace = True) # remove null price column create in test due to combining with train df"
   ]
  },
  {
   "cell_type": "code",
   "execution_count": 165,
   "metadata": {},
   "outputs": [
    {
     "data": {
      "text/plain": [
       "Total_Stops    0.55772\n",
       "Price          1.93119\n",
       "dtype: float64"
      ]
     },
     "execution_count": 165,
     "metadata": {},
     "output_type": "execute_result"
    }
   ],
   "source": [
    "# Check skewness \n",
    "train.iloc[:,:2].skew()"
   ]
  },
  {
   "cell_type": "code",
   "execution_count": 166,
   "metadata": {},
   "outputs": [
    {
     "name": "stdout",
     "output_type": "stream",
     "text": [
      "Skewness of Price after log -0.2454134795049426\n"
     ]
    }
   ],
   "source": [
    "# Treat Skewness of Flight price\n",
    "train.Price = train.Price.apply(lambda x : np.log1p(x))\n",
    "print('Skewness of Price after log',train.Price.skew())"
   ]
  },
  {
   "cell_type": "code",
   "execution_count": 167,
   "metadata": {},
   "outputs": [
    {
     "name": "stdout",
     "output_type": "stream",
     "text": [
      "0.9688 between  arr_day    &    journey_day  \n",
      "0.9688 between  journey_day    &    arr_day  \n",
      "1.0 between  Destination_Kolkata    &    Source_Chennai  \n",
      "1.0 between  Destination_Cochin    &    Source_Delhi  \n",
      "1.0 between  Destination_Banglore    &    Source_Kolkata  \n",
      "1.0 between  Destination_Hyderabad    &    Source_Mumbai  \n",
      "1.0 between  Source_Kolkata    &    Destination_Banglore  \n",
      "1.0 between  Source_Delhi    &    Destination_Cochin  \n",
      "1.0 between  Source_Mumbai    &    Destination_Hyderabad  \n",
      "1.0 between  Source_Chennai    &    Destination_Kolkata  \n"
     ]
    }
   ],
   "source": [
    "# Find correlated Features\n",
    "correl = train.corr()\n",
    "for i in range(correl.shape[0]):\n",
    "    for j in range(correl.shape[1]):\n",
    "        if (abs(correl.iloc[i,j]) > 0.8) & ( i != j):\n",
    "            print(round(correl.iloc[i,j], 4), 'between ',correl.columns[j], '   &   ', correl.index[i], ' ')"
   ]
  },
  {
   "cell_type": "code",
   "execution_count": 168,
   "metadata": {},
   "outputs": [
    {
     "name": "stdout",
     "output_type": "stream",
     "text": [
      "Total number of Features =  85\n",
      "Index(['Total_Stops', 'Price', 'journey_month', 'journey_day', 'dep_hour',\n",
      "       'dep_min', 'arr_hour', 'arr_min', 'dur_hour', 'dur_min', 'arr_month',\n",
      "       'arr_day', 'Airline_Airline A', 'Airline_Airline B',\n",
      "       'Airline_Airline C', 'Airline_Airline D', 'Airline_Airline E',\n",
      "       'Airline_Airline F', 'Airline_Airline G', 'Airline_Airline H',\n",
      "       'Airline_Airline I', 'Airline_Airline J', 'Airline_Airline K',\n",
      "       'Airline_Airline L', 'Source_Banglore', 'Source_Chennai',\n",
      "       'Source_Delhi', 'Source_Kolkata', 'Source_Mumbai',\n",
      "       'Destination_Banglore', 'Destination_Cochin', 'Destination_Delhi',\n",
      "       'Destination_Hyderabad', 'Destination_Kolkata', 'Destination_New Delhi',\n",
      "       '1 Long layover', '1 Short layover', '2 Long layover', 'Business class',\n",
      "       'Change airports', 'In-flight meal not included',\n",
      "       'No check-in baggage included', 'Red-eye flight', 'MAA', 'BOM', 'NAG',\n",
      "       'BHO', 'BLR', 'HYD', 'BDQ', 'DEL', 'JAI', 'IXC', 'COK', 'ATQ', 'IXR',\n",
      "       'IDR', 'LKO', 'AMD', 'BBI', 'CCU', 'GOI', 'GAU', 'PNQ', 'JDH', 'VNS',\n",
      "       'UDR', 'IXU', 'TRV', 'VGA', 'KNU', 'IMF', 'IXB', 'ISK', 'DED', 'RPR',\n",
      "       'IXZ', 'STV', 'GWL', 'VTZ', 'JLR', 'PAT', 'NDC', 'HBX', 'IXA'],\n",
      "      dtype='object')\n"
     ]
    }
   ],
   "source": [
    "print('Total number of Features = ', len(train.columns))\n",
    "print(train.columns)"
   ]
  },
  {
   "cell_type": "code",
   "execution_count": 169,
   "metadata": {},
   "outputs": [],
   "source": [
    "# Split data into Feature & target\n",
    "X = train.drop('Price', axis =1)\n",
    "y = train['Price'].copy()\n",
    "\n",
    "# Feature Scaling\n",
    "def scaling(df):\n",
    "    ss = StandardScaler()\n",
    "    df = ss.fit_transform(df)\n",
    "    return df\n",
    "    \n",
    "X = scaling(X)\n",
    "test = scaling(X)"
   ]
  },
  {
   "cell_type": "code",
   "execution_count": 170,
   "metadata": {},
   "outputs": [],
   "source": [
    "# Make scorer for RMSLE\n",
    "def rmsle(ytruez,ypredz):\n",
    "    error = np.sqrt(mean_squared_log_error(ytruez, ypredz))\n",
    "    return error\n",
    "from sklearn.metrics import make_scorer\n",
    "my_func = make_scorer(rmsle, greater_is_better=False)\n",
    "\n",
    "# RMSLE scorer 2 (returns error when the price is at original scale(convert price back to original scale))\n",
    "def rmsle2(ytruez,ypredz):\n",
    "    error = np.sqrt(mean_squared_log_error(np.expm1(ytruez), np.expm1(ypredz)))\n",
    "    return error\n",
    "from sklearn.metrics import make_scorer\n",
    "my_func2 = make_scorer(rmsle2, greater_is_better=False)"
   ]
  },
  {
   "cell_type": "code",
   "execution_count": 171,
   "metadata": {},
   "outputs": [
    {
     "name": "stdout",
     "output_type": "stream",
     "text": [
      "RMSLE Errors for log1p(price)\n",
      "For ElasticNet : 0.02336870411642109\n",
      "For RandomForestRegressor : 0.012392063083228218\n",
      "For XGBoost : 0.012076805277496449\n"
     ]
    }
   ],
   "source": [
    "# k-fold cross validation for Ridge, RandomForestRegressor & XGBoost.\n",
    "ri_cv = Ridge(max_iter = 1500)\n",
    "rf_cv = RandomForestRegressor(n_jobs = 4)\n",
    "xgb_cv = XGBRegressor()\n",
    "\n",
    "print('RMSLE Errors for log1p(price)')\n",
    "cv_en = cross_val_score(ri_cv, X, y, cv = 8, scoring = my_func).mean()\n",
    "print('For ElasticNet :', -1 *cv_en)\n",
    "\n",
    "cv_rf = cross_val_score(rf_cv, X, y, cv = 8, scoring = my_func).mean()\n",
    "print('For RandomForestRegressor :', -1 *cv_rf)\n",
    "\n",
    "cv_xgb = cross_val_score(xgb_cv, X, y, cv = 8, scoring = my_func).mean()\n",
    "print('For XGBoost :', -1 *cv_xgb)"
   ]
  },
  {
   "cell_type": "code",
   "execution_count": 172,
   "metadata": {},
   "outputs": [],
   "source": [
    "# split Data\n",
    "xtrain,xtest,ytrain,ytest = train_test_split(X,y,test_size = 0.2,random_state = 14) "
   ]
  },
  {
   "cell_type": "code",
   "execution_count": 173,
   "metadata": {
    "scrolled": true
   },
   "outputs": [
    {
     "name": "stdout",
     "output_type": "stream",
     "text": [
      "Fitting estimator with 84 features.\n",
      "Fitting estimator with 83 features.\n",
      "Fitting estimator with 82 features.\n",
      "Fitting estimator with 81 features.\n",
      "Fitting estimator with 80 features.\n",
      "Fitting estimator with 79 features.\n",
      "Fitting estimator with 78 features.\n",
      "Fitting estimator with 77 features.\n",
      "Fitting estimator with 76 features.\n",
      "Fitting estimator with 75 features.\n",
      "Fitting estimator with 74 features.\n",
      "Fitting estimator with 73 features.\n",
      "Fitting estimator with 72 features.\n",
      "Fitting estimator with 71 features.\n",
      "Fitting estimator with 70 features.\n",
      "Fitting estimator with 69 features.\n",
      "Fitting estimator with 68 features.\n",
      "Fitting estimator with 67 features.\n",
      "Fitting estimator with 66 features.\n",
      "Fitting estimator with 65 features.\n",
      "Fitting estimator with 64 features.\n",
      "Fitting estimator with 63 features.\n",
      "Fitting estimator with 62 features.\n",
      "Fitting estimator with 61 features.\n",
      "Fitting estimator with 60 features.\n",
      "Fitting estimator with 59 features.\n",
      "Fitting estimator with 58 features.\n",
      "Fitting estimator with 57 features.\n",
      "Fitting estimator with 56 features.\n",
      "Fitting estimator with 55 features.\n",
      "Fitting estimator with 54 features.\n",
      "Fitting estimator with 53 features.\n",
      "Fitting estimator with 52 features.\n",
      "Fitting estimator with 51 features.\n",
      "Fitting estimator with 50 features.\n",
      "Fitting estimator with 49 features.\n",
      "Fitting estimator with 48 features.\n",
      "Fitting estimator with 47 features.\n",
      "Fitting estimator with 46 features.\n",
      "Fitting estimator with 45 features.\n",
      "Fitting estimator with 44 features.\n",
      "Fitting estimator with 43 features.\n",
      "Number of selected Features by RFE =  42 out of 84 features.\n"
     ]
    }
   ],
   "source": [
    "# Feature Elimination using rfe with RandomForestEstimator\n",
    "rf=RandomForestRegressor()\n",
    "rfe = RFE(estimator = rf, step = 1, verbose =2)\n",
    "rfe.fit(X,y)\n",
    "\n",
    "selected_fs = pd.DataFrame({'features': train.drop('Price', axis = 1).columns,\n",
    "                           'ranks': rfe.ranking_})\n",
    "selected_fs = selected_fs.sort_values(by = 'ranks')\n",
    "\n",
    "# Convert data to use only selected features\n",
    "xtrain_rfe = rfe.transform(xtrain)\n",
    "X = rfe.transform(X)\n",
    "xtest_rfe = rfe.transform(xtest)\n",
    "test_rfe = rfe.transform(test)\n",
    "\n",
    "print('Number of selected Features by RFE = ', selected_fs[selected_fs['ranks'] == 1].shape[0], 'out of 84 features.')"
   ]
  },
  {
   "cell_type": "code",
   "execution_count": 174,
   "metadata": {},
   "outputs": [
    {
     "name": "stdout",
     "output_type": "stream",
     "text": [
      "r2_  score:  0.701\n",
      "test RMSE:  2650.559\n",
      "test RMSLE:  0.24666759677744227\n"
     ]
    }
   ],
   "source": [
    "#Ridge\n",
    "en = Ridge()\n",
    "ypred_en = en.fit(xtrain_rfe,ytrain).predict(xtest_rfe)\n",
    "\n",
    "# Convert actual & predicted price to original scale\n",
    "y_true_scale = []\n",
    "pred_true_scale = []\n",
    "for i in range(len(ytest)):\n",
    "    y_true_scale.append((np.expm1(ytest.iloc[i])))\n",
    "    pred_true_scale.append((np.expm1(ypred_en[i])))\n",
    "    \n",
    "en_rmse = np.sqrt(mean_squared_error(y_true_scale, pred_true_scale))\n",
    "print('r2_  score: ', round(r2_score(y_true_scale, pred_true_scale),3))\n",
    "print('test RMSE: ', round(en_rmse,3))\n",
    "print('test RMSLE: ', rmsle(y_true_scale, pred_true_scale))"
   ]
  },
  {
   "cell_type": "code",
   "execution_count": 175,
   "metadata": {},
   "outputs": [
    {
     "name": "stdout",
     "output_type": "stream",
     "text": [
      "train r2_score:  0.947 test r2_score:  0.929 \n",
      "\n",
      "train RMSLE:  0.06 test RMSLE:  0.12\n",
      "train rmse:  1084.31 test rmse:  1291.76\n"
     ]
    }
   ],
   "source": [
    "# RandomForestRegressor\n",
    "rf=RandomForestRegressor(n_jobs = 4,random_state = 28)\n",
    "ypred_rf = rf.fit(xtrain_rfe,ytrain).predict(xtest_rfe)\n",
    "ypred_rf_train = rf.fit(xtrain_rfe,ytrain).predict(xtrain_rfe)\n",
    "\n",
    "# Convert actual & predicted price to original scale\n",
    "y_true_scale_train = []\n",
    "y_true_scale = []\n",
    "pred_true_scale = []\n",
    "pred_true_scale_train = []\n",
    "for i in range(len(ytest)):\n",
    "    y_true_scale.append((np.expm1(ytest.iloc[i])))\n",
    "    y_true_scale_train.append((np.expm1(ytrain.iloc[i])))\n",
    "    pred_true_scale.append((np.expm1(ypred_rf[i])))\n",
    "    pred_true_scale_train.append((np.expm1(ypred_rf_train[i])))\n",
    "    \n",
    "print('train r2_score: ',round(r2_score(y_true_scale_train,pred_true_scale_train),3),'test r2_score: ',round(r2_score(y_true_scale, pred_true_scale),3),'\\n')\n",
    "print('train RMSLE: ',round(rmsle(y_true_scale_train,pred_true_scale_train),2),'test RMSLE: ', round(rmsle(y_true_scale, pred_true_scale),2))\n",
    "print('train rmse: ',round(np.sqrt(mean_squared_error(y_true_scale_train, pred_true_scale_train)),2),'test rmse: ',round(np.sqrt(mean_squared_error(y_true_scale,pred_true_scale)),2))"
   ]
  },
  {
   "cell_type": "code",
   "execution_count": 176,
   "metadata": {},
   "outputs": [
    {
     "name": "stdout",
     "output_type": "stream",
     "text": [
      "Fitting 5 folds for each of 1 candidates, totalling 5 fits\n"
     ]
    },
    {
     "name": "stderr",
     "output_type": "stream",
     "text": [
      "[Parallel(n_jobs=-1)]: Using backend LokyBackend with 4 concurrent workers.\n",
      "[Parallel(n_jobs=-1)]: Done   5 out of   5 | elapsed:   14.9s finished\n"
     ]
    },
    {
     "name": "stdout",
     "output_type": "stream",
     "text": [
      "Best params after Tuning :  {'bootstrap': True, 'max_depth': 20, 'max_features': 'auto', 'min_samples_leaf': 2, 'min_samples_split': 6, 'n_estimators': 190}\n",
      "Best Gridsearch score =   -0.12782298962719202 \n",
      "\n",
      "Gridsearchcv mean score while Training :  [-0.08052883]\n",
      "Gridsearchcv mean score while Testing :  [-0.12782299]\n"
     ]
    }
   ],
   "source": [
    "# RandomForest Hyper-Parameter Tuning\n",
    "gridrf = {\n",
    "    'max_depth' : [20],\n",
    "    'n_estimators' : [190],\n",
    "    'max_features' : ['auto'],\n",
    "    'min_samples_split':[6],\n",
    "    'min_samples_leaf' : [2],\n",
    "    'bootstrap' : [True]\n",
    "}\n",
    "gsrf = GridSearchCV(RandomForestRegressor(),gridrf,n_jobs=-1,verbose=2,scoring=my_func2, return_train_score=True)\n",
    "gsrf.fit(X,y)\n",
    "\n",
    "print('Best params after Tuning : ',gsrf.best_params_)\n",
    "print('Best Gridsearch score =  ',gsrf.best_score_, '\\n')\n",
    "print('Gridsearchcv mean score while Training : ',gsrf.cv_results_['mean_train_score'])\n",
    "print('Gridsearchcv mean score while Testing : ',gsrf.cv_results_['mean_test_score'])"
   ]
  },
  {
   "cell_type": "code",
   "execution_count": 177,
   "metadata": {},
   "outputs": [
    {
     "name": "stdout",
     "output_type": "stream",
     "text": [
      "train r2_score:  0.954 test r2_score:  0.917 \n",
      "\n",
      "train RMSLE:  0.08 test RMSLE:  0.12\n",
      "train RMSE:  1015.06 test RMSE:  1397.82\n"
     ]
    }
   ],
   "source": [
    "# XGBoost\n",
    "xgb = XGBRegressor()\n",
    "ypred_xgb = xgb.fit(xtrain_rfe,ytrain).predict(xtest_rfe)\n",
    "ypred_xgb_train = xgb.fit(xtrain_rfe,ytrain).predict(xtrain_rfe)\n",
    "\n",
    "# Convert to Original scale\n",
    "y_true_scale_train = []\n",
    "y_true_scale = []\n",
    "pred_true_scale = []\n",
    "pred_true_scale_train = []\n",
    "for i in range(len(ytest)):\n",
    "    y_true_scale.append((np.expm1(ytest.iloc[i])))\n",
    "    y_true_scale_train.append((np.expm1(ytrain.iloc[i])))\n",
    "    pred_true_scale.append((np.expm1(ypred_xgb[i])))\n",
    "    pred_true_scale_train.append((np.expm1(ypred_xgb_train[i])))\n",
    "    \n",
    "print('train r2_score: ', round(r2_score(y_true_scale_train, pred_true_scale_train),3),'test r2_score: ', round(r2_score(y_true_scale, pred_true_scale),3), '\\n')\n",
    "print('train RMSLE: ', round(rmsle(y_true_scale_train, pred_true_scale_train),2),'test RMSLE: ', round(rmsle(y_true_scale, pred_true_scale),2))\n",
    "print('train RMSE: ', round(np.sqrt(mean_squared_error(y_true_scale_train, pred_true_scale_train)),2),'test RMSE: ', round(np.sqrt(mean_squared_error(y_true_scale, pred_true_scale)),2))"
   ]
  },
  {
   "cell_type": "code",
   "execution_count": 178,
   "metadata": {},
   "outputs": [
    {
     "name": "stdout",
     "output_type": "stream",
     "text": [
      "Fitting 5 folds for each of 1 candidates, totalling 5 fits\n"
     ]
    },
    {
     "name": "stderr",
     "output_type": "stream",
     "text": [
      "[Parallel(n_jobs=-1)]: Using backend LokyBackend with 4 concurrent workers.\n",
      "[Parallel(n_jobs=-1)]: Done   5 out of   5 | elapsed:  2.0min finished\n"
     ]
    },
    {
     "name": "stdout",
     "output_type": "stream",
     "text": [
      "train r2_score:  0.979 test r2_score:  0.92 \n",
      "\n",
      "train RMSLE:  0.06 test RMSLE:  0.11\n",
      "train RMSE:  692.74 test RMSE:  1369.5\n"
     ]
    }
   ],
   "source": [
    "# XGBoost Hyper-parameter Tuning\n",
    "grid = {\n",
    "    'max_depth' : [6],'min_child_weight' : [2],\n",
    "    'n_estimators' : [6000],\n",
    "    'gamma' : [0],\n",
    "    'subsample':[1],'colsample_bytree':[0.65],\n",
    "    'reg_alpha':[0.1],\n",
    "    'learning_rate' : [0.01]\n",
    "}\n",
    "gs1 = GridSearchCV(XGBRegressor(), grid, n_jobs=-1, verbose=2,scoring=my_func) #'neg_mean_squared_error'\n",
    "gs1.fit(xtrain_rfe,ytrain)\n",
    "ypred = gs1.predict(xtest_rfe)\n",
    "ypred_train = gs1.predict(xtrain_rfe)\n",
    "\n",
    "# Convert to Original scale\n",
    "y_true_scale = []\n",
    "y_true_scale_train = []\n",
    "pred_true_scale = []\n",
    "pred_true_scale_train = []\n",
    "for i in range(len(ytest)):\n",
    "    y_true_scale.append((np.expm1(ytest.iloc[i])))\n",
    "    y_true_scale_train.append((np.expm1(ytrain.iloc[i])))\n",
    "    pred_true_scale.append((np.expm1(ypred[i])))\n",
    "    pred_true_scale_train.append((np.expm1(ypred_train[i])))\n",
    "    \n",
    "print('train r2_score: ', round(r2_score(y_true_scale_train, pred_true_scale_train),3),'test r2_score: ', round(r2_score(y_true_scale, pred_true_scale),3), '\\n')\n",
    "print('train RMSLE: ', round(rmsle(y_true_scale_train, pred_true_scale_train),2),'test RMSLE: ', round(rmsle(y_true_scale, pred_true_scale),2))\n",
    "print('train RMSE: ', round(np.sqrt(mean_squared_error(y_true_scale_train, pred_true_scale_train)),2),'test RMSE: ', round(np.sqrt(mean_squared_error(y_true_scale, pred_true_scale)),2))"
   ]
  },
  {
   "cell_type": "code",
   "execution_count": 179,
   "metadata": {
    "scrolled": true
   },
   "outputs": [
    {
     "name": "stdout",
     "output_type": "stream",
     "text": [
      "{'colsample_bytree': 0.65, 'gamma': 0, 'learning_rate': 0.01, 'max_depth': 6, 'min_child_weight': 2, 'n_estimators': 6000, 'reg_alpha': 0.1, 'subsample': 1}\n",
      "-0.01217914691253998\n"
     ]
    }
   ],
   "source": [
    "print(gs1.best_params_)\n",
    "print(gs1.best_score_)"
   ]
  },
  {
   "cell_type": "code",
   "execution_count": 190,
   "metadata": {},
   "outputs": [
    {
     "data": {
      "image/png": "[encoded data removed]",
      "text/plain": [
       "<Figure size 1440x360 with 1 Axes>"
      ]
     },
     "metadata": {
      "needs_background": "light"
     },
     "output_type": "display_data"
    }
   ],
   "source": [
    "g_xgb = pd.DataFrame({'actual' : np.expm1(ytest),'predicted': np.expm1(gs1.predict(xtest_rfe))})\n",
    "g_xgb = g_xgb.sort_values(by=\"actual\").reset_index()\n",
    "plt.figure(figsize = (20,5))\n",
    "plt.plot(g_xgb['predicted'])\n",
    "plt.plot(g_xgb['actual'], color = 'red')\n",
    "plt.legend(['Predicted','Actual'],fontsize = 20)\n",
    "plt.title('XGBoost Hyper-parameter Tuned Model', fontsize = 20)\n",
    "plt.ylabel('Price', fontsize = 20)\n",
    "plt.show()"
   ]
  },
  {
   "cell_type": "code",
   "execution_count": 185,
   "metadata": {
    "scrolled": true
   },
   "outputs": [
    {
     "name": "stdout",
     "output_type": "stream",
     "text": [
      "Fitting 5 folds for each of 1 candidates, totalling 5 fits\n"
     ]
    },
    {
     "name": "stderr",
     "output_type": "stream",
     "text": [
      "[Parallel(n_jobs=-1)]: Using backend LokyBackend with 4 concurrent workers.\n",
      "[Parallel(n_jobs=-1)]: Done   5 out of   5 | elapsed:   18.0s finished\n"
     ]
    },
    {
     "name": "stdout",
     "output_type": "stream",
     "text": [
      "For metamodel, cvs : -0.011278004508974006\n"
     ]
    }
   ],
   "source": [
    "# stacking\n",
    "m1 = rf.predict(xtest_rfe)\n",
    "m2 = xgb.predict(xtest_rfe)\n",
    "m3 = gsrf.fit(xtrain_rfe, ytrain).predict(xtest_rfe)\n",
    "m4 = gs1.predict(xtest_rfe)\n",
    "\n",
    "# Create df of individual model predictoins\n",
    "meta_df1 = pd.DataFrame(data = {'m1':m1,'m2':m2,'m3':m3,'m4':m4})\n",
    "\n",
    "# using Ridge as meta model\n",
    "meta_model = Ridge()   \n",
    "meta_model.fit(meta_df1,ytest)  # Fit ridge with the predictions of individual models\n",
    "\n",
    "# Use Cross validation to check model performance\n",
    "metacv1 = cross_val_score(meta_model, meta_df1, ytest, cv = 8, scoring = my_func).mean()\n",
    "print('For metamodel, cvs :', round(metacv1,4))"
   ]
  },
  {
   "cell_type": "code",
   "execution_count": 187,
   "metadata": {
    "scrolled": true
   },
   "outputs": [
    {
     "data": {
      "text/plain": [
       "array([8.72464455, 8.24628744, 9.37565451, ..., 9.50889102, 8.60368992,\n",
       "       8.84388941])"
      ]
     },
     "execution_count": 187,
     "metadata": {},
     "output_type": "execute_result"
    }
   ],
   "source": [
    "# meta model pred on test data\n",
    "m11 = rf.predict(test_rfe)\n",
    "m22 = xgb.predict(test_rfe)\n",
    "m33 = gsrf.predict(test_rfe)\n",
    "m44 = gs1.predict(test_rfe)\n",
    "\n",
    "meta_df2 = pd.DataFrame(data = {'m11':m11,'m2':m22,'m3':m33,'m4':m44})\n",
    "meta_model_prediction = meta_model.predict(meta_df2)"
   ]
  },
  {
   "cell_type": "code",
   "execution_count": 183,
   "metadata": {},
   "outputs": [
    {
     "data": {
      "text/plain": [
       "array([8.697708, 8.229667, 9.365617, ..., 9.54686 , 8.605243, 8.843475],\n",
       "      dtype=float32)"
      ]
     },
     "execution_count": 183,
     "metadata": {},
     "output_type": "execute_result"
    }
   ],
   "source": [
    "# Converting Predicted price to true scale\n",
    "sub1 = []\n",
    "for i in range(len(sub)):\n",
    "    sub1.append((np.expm1(meta_model_prediction[i])))\n",
    "    \n",
    "# Create df & export\n",
    "subm = pd.DataFrame({'Price':sub1})\n",
    "subm.to_csv('sub7_ss0.9.csv', index = False)"
   ]
  }
 ],
 "metadata": {
  "kernelspec": {
   "display_name": "Python 3",
   "language": "python",
   "name": "python3"
  },
  "language_info": {
   "codemirror_mode": {
    "name": "ipython",
    "version": 3
   },
   "file_extension": ".py",
   "mimetype": "text/x-python",
   "name": "python",
   "nbconvert_exporter": "python",
   "pygments_lexer": "ipython3",
   "version": "3.7.6"
  }
 },
 "nbformat": 4,
 "nbformat_minor": 4
}
